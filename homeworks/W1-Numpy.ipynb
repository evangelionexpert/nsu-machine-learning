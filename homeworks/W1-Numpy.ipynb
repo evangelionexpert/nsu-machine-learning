{
 "cells": [
  {
   "cell_type": "code",
   "execution_count": 180,
   "id": "d76cfe857e9db211",
   "metadata": {
    "collapsed": false,
    "is_executing": true,
    "jupyter": {
     "outputs_hidden": false
    }
   },
   "outputs": [],
   "source": [
    "import numpy as np"
   ]
  },
  {
   "cell_type": "markdown",
   "id": "1064f725",
   "metadata": {},
   "source": [
    "**Задание 1.** Напишите функцию, принимающую два массива произвольных размерностей и возвращающую True тогда и только тогда, когда эти два массива поэлементно равны"
   ]
  },
  {
   "cell_type": "code",
   "execution_count": 181,
   "id": "95446adb",
   "metadata": {
    "is_executing": true
   },
   "outputs": [],
   "source": [
    "def task1(x, y) -> bool:\n",
    "    return x.shape == y.shape and (x == y).all() == True"
   ]
  },
  {
   "cell_type": "code",
   "execution_count": 182,
   "id": "96e67c98cd9d13e",
   "metadata": {
    "collapsed": false,
    "is_executing": true,
    "jupyter": {
     "outputs_hidden": false
    }
   },
   "outputs": [
    {
     "name": "stdout",
     "output_type": "stream",
     "text": [
      "tests passed\n"
     ]
    }
   ],
   "source": [
    "arr = np.array(\n",
    "    [\n",
    "        [3, 5, 4],\n",
    "        [6, 6, 6]\n",
    "    ]\n",
    ")\n",
    "\n",
    "assert(task1(arr, np.random.randn(10, 8)) == False)\n",
    "assert(task1(arr, np.random.randint(-5, 6, size=(2, 3))) == False)\n",
    "assert(task1(arr, np.array([[4, 5, 4], [6, 6, 6]])) == False)\n",
    "\n",
    "assert(task1(arr, arr) == True)\n",
    "assert(task1(arr, arr.copy()) == True)\n",
    "\n",
    "print('tests passed')"
   ]
  },
  {
   "cell_type": "markdown",
   "id": "118e761c",
   "metadata": {},
   "source": [
    "**Задание 2.** Напишите функцию, которая принимает на вход двумерный массив (это условие можно не проверять), и возврщает массис, в котором каждый элемент исходного массива поделен на сумму модулей элементов его строки.\n",
    "\n",
    "Например,\n",
    "для массива \n",
    "$$\n",
    "\\left(\\begin{array}{cc}\n",
    "    1 & - 1 \\\\\n",
    "    2 & 4\n",
    "\\end{array}\\right)\n",
    "$$ должен быть возвращен массив\n",
    "$$\n",
    "\\left(\\begin{array}{cc}\n",
    "    \\frac{1}{2} & -\\frac{1}{2} \\\\\n",
    "    \\frac{1}{3} & -\\frac{2}{3}\n",
    "\\end{array}\\right)\n",
    "$$"
   ]
  },
  {
   "cell_type": "code",
   "execution_count": 183,
   "id": "3693e325",
   "metadata": {
    "is_executing": true
   },
   "outputs": [],
   "source": [
    "def task2(x):\n",
    "    return x / np.sum(np.abs(x), axis=1, keepdims=True)"
   ]
  },
  {
   "cell_type": "code",
   "execution_count": 184,
   "id": "4d35a7ea-dd05-4fec-a65a-93b567db7132",
   "metadata": {},
   "outputs": [
    {
     "name": "stdout",
     "output_type": "stream",
     "text": [
      "tests passed\n",
      "[[0 2 0]\n",
      " [0 0 2]]\n",
      "[[0. 1. 0.]\n",
      " [0. 0. 1.]]\n"
     ]
    }
   ],
   "source": [
    "arr = np.array(\n",
    "    [\n",
    "        [1, -1],\n",
    "        [2,  4]\n",
    "    ]\n",
    ")\n",
    "\n",
    "expected = np.array(\n",
    "    [\n",
    "        [1/2, -1/2],\n",
    "        [1/3, 2/3]\n",
    "    ]\n",
    ")\n",
    "\n",
    "assert(task1(task2(arr), expected) == True)\n",
    "print('tests passed')\n",
    "\n",
    "arr = np.random.randint(-3, 3, size=(2, 3))\n",
    "print(arr)\n",
    "print(task2(arr))"
   ]
  },
  {
   "cell_type": "markdown",
   "id": "fb3a12bf",
   "metadata": {},
   "source": [
    "**Задание 3** Напишите функцию, которая принимает на вход одномреный массив и возвращает матрицу Вандермонда для элемментов этого массива.\n",
    "Напомним, что матрицей Вандермонда для элементов $(x_1, x_2, \\ldots, x_n)$ называется квадратная матрица порядка $n$, имеющая следующий вид\n",
    "$$ \n",
    "\\left(\\begin{array}{ccccc}\n",
    "1 & x_1 & x_1^2 & \\ldots  & x_1^{n - 1} \\\\\n",
    "1 & x_2 & x_2^2 & \\ldots  & x_2^{n - 1} \\\\\n",
    "1 & x_3 & x_3^2 & \\ldots  & x_3^{n - 1} \\\\\n",
    "& & \\ldots & & \\\\\n",
    "1 & x_n & x_n^2 & \\ldots  & x_n^{n - 1} \\\\\n",
    "\\end{array}\n",
    "\\right)\n",
    "$$\n",
    "\n",
    "*Важно*: в этом задании запрещено использовать встроенную функцию `np.vander`. И код из нее тоже не надо копировать и даже творчески переписывать не стоит, для решения достаточно функций, показанных на семинаре"
   ]
  },
  {
   "cell_type": "code",
   "execution_count": 185,
   "id": "7ef11eab",
   "metadata": {
    "is_executing": true
   },
   "outputs": [],
   "source": [
    "def task3(arr):\n",
    "    return np.logspace(0, arr.shape[0] - 1, num = arr.shape[0], base = arr, axis = 1)"
   ]
  },
  {
   "cell_type": "code",
   "execution_count": 186,
   "id": "b59cc16d-2eea-4a85-90df-4595a96a4ae1",
   "metadata": {},
   "outputs": [
    {
     "name": "stdout",
     "output_type": "stream",
     "text": [
      "passed\n"
     ]
    }
   ],
   "source": [
    "arr = np.array([1, 2, 3, 4, 5])\n",
    "expected = np.array(\n",
    "    [\n",
    "        [  1,   1,   1,   1,   1],\n",
    "        [  1,   2,   4,   8,  16],\n",
    "        [  1,   3,   9,  27,  81],\n",
    "        [  1,   4,  16,  64, 256],\n",
    "        [  1,   5,  25, 125, 625]\n",
    "    ]\n",
    ")\n",
    "\n",
    "assert(task1(task3(arr), expected) == True)\n",
    "print('passed')"
   ]
  },
  {
   "cell_type": "markdown",
   "id": "f2f9fbb1",
   "metadata": {},
   "source": [
    "**Задание 4.** Напишите функцию, которая принимает на вход массив и возвращает новый массив, который получен из аргмента заменой всех отрицательных элементов на среднее значение всех положительных элементов исходного массива"
   ]
  },
  {
   "cell_type": "code",
   "execution_count": 187,
   "id": "18bb21fd",
   "metadata": {
    "is_executing": true
   },
   "outputs": [],
   "source": [
    "def task4(arr):\n",
    "    average = np.average(arr[arr>0])\n",
    "    return (arr * (arr > 0) + average * (arr < 0))"
   ]
  },
  {
   "cell_type": "code",
   "execution_count": 188,
   "id": "9094ab021901af3",
   "metadata": {
    "collapsed": false,
    "jupyter": {
     "outputs_hidden": false
    }
   },
   "outputs": [
    {
     "name": "stdout",
     "output_type": "stream",
     "text": [
      "passed\n"
     ]
    }
   ],
   "source": [
    "arr = np.array([-5, -6, 0, 3, 10, 5, 0, -100500])\n",
    "expected = np.array([6, 6, 0, 3, 10, 5, 0, 6])\n",
    "\n",
    "assert(task1(task4(arr), expected) == True)\n",
    "print('passed')"
   ]
  }
 ],
 "metadata": {
  "kernelspec": {
   "display_name": "Python 3 (ipykernel)",
   "language": "python",
   "name": "python3"
  },
  "language_info": {
   "codemirror_mode": {
    "name": "ipython",
    "version": 3
   },
   "file_extension": ".py",
   "mimetype": "text/x-python",
   "name": "python",
   "nbconvert_exporter": "python",
   "pygments_lexer": "ipython3",
   "version": "3.11.5"
  }
 },
 "nbformat": 4,
 "nbformat_minor": 5
}
